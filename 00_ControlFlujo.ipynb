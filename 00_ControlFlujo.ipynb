{
 "cells": [
  {
   "cell_type": "code",
   "execution_count": 333,
   "metadata": {},
   "outputs": [],
   "source": [
    "import json\n",
    "import subprocess\n",
    "import papermill as pm\n",
    "import os\n",
    "from datetime import datetime\n",
    "import tempfile\n",
    "import nbformat\n",
    "import stat"
   ]
  },
  {
   "cell_type": "code",
   "execution_count": 334,
   "metadata": {},
   "outputs": [],
   "source": [
    "# Definir el directorio base y temporal\n",
    "try:\n",
    "    BASE_DIR = os.path.abspath(os.path.dirname(__file__))\n",
    "except NameError:\n",
    "    BASE_DIR = os.getcwd()\n",
    "\n",
    "TEMP_DIR = os.path.join(BASE_DIR, 'temp')\n",
    "os.makedirs(TEMP_DIR, exist_ok=True)\n",
    "os.chmod(TEMP_DIR, 0o777)\n"
   ]
  },
  {
   "cell_type": "code",
   "execution_count": 335,
   "metadata": {},
   "outputs": [],
   "source": [
    "# Función para ejecutar notebooks\n",
    "def ejecutar_notebook(notebook_path, parameters=None):\n",
    "    if parameters is None:\n",
    "        parameters = {}\n",
    "    tmp_output_path = os.path.join(TEMP_DIR, 'output_notebook.ipynb')\n",
    "    pm.execute_notebook(\n",
    "        notebook_path,\n",
    "        tmp_output_path,  # Usar un archivo temporal para el output\n",
    "        parameters=parameters\n",
    "    )"
   ]
  },
  {
   "cell_type": "code",
   "execution_count": 336,
   "metadata": {},
   "outputs": [],
   "source": [
    "COMMON_NOTEBOOK_PATH = os.path.join(BASE_DIR, \"01_LecturayAnalisis.ipynb\")"
   ]
  },
  {
   "cell_type": "code",
   "execution_count": 337,
   "metadata": {},
   "outputs": [
    {
     "data": {
      "application/vnd.jupyter.widget-view+json": {
       "model_id": "6f7e87ba4afb434e97e5862bbaef163d",
       "version_major": 2,
       "version_minor": 0
      },
      "text/plain": [
       "Executing:   0%|          | 0/14 [00:00<?, ?cell/s]"
      ]
     },
     "metadata": {},
     "output_type": "display_data"
    }
   ],
   "source": [
    "# Ejecutar el notebook común\n",
    "ejecutar_notebook(COMMON_NOTEBOOK_PATH)"
   ]
  },
  {
   "cell_type": "code",
   "execution_count": null,
   "metadata": {},
   "outputs": [],
   "source": [
    "# Variantes de normalización\n",
    "variantes = ['No_Norm', 'MinMax', 'Std', 'Maxabs', 'Robust']"
   ]
  },
  {
   "cell_type": "code",
   "execution_count": null,
   "metadata": {},
   "outputs": [
    {
     "data": {
      "application/vnd.jupyter.widget-view+json": {
       "model_id": "819a65f6dc7a45cb98bffa291100615d",
       "version_major": 2,
       "version_minor": 0
      },
      "text/plain": [
       "Executing:   0%|          | 0/4 [00:00<?, ?cell/s]"
      ]
     },
     "metadata": {},
     "output_type": "display_data"
    },
    {
     "ename": "PermissionError",
     "evalue": "[Errno 13] Permission denied: 'c:\\\\Users\\\\Gonzalo\\\\Documents\\\\GitHub\\\\00_tesisaustral\\\\tesisaustral\\\\tesisaustral\\\\tmpz6j9eig_.ipynb'",
     "output_type": "error",
     "traceback": [
      "\u001b[1;31m---------------------------------------------------------------------------\u001b[0m",
      "\u001b[1;31mPermissionError\u001b[0m                           Traceback (most recent call last)",
      "Cell \u001b[1;32mIn[308], line 5\u001b[0m\n\u001b[0;32m      3\u001b[0m     notebook_path \u001b[38;5;241m=\u001b[39m os\u001b[38;5;241m.\u001b[39mpath\u001b[38;5;241m.\u001b[39mjoin(BASE_DIR, \u001b[38;5;124mf\u001b[39m\u001b[38;5;124m\"\u001b[39m\u001b[38;5;124m02_Norm_\u001b[39m\u001b[38;5;132;01m{\u001b[39;00mvariante\u001b[38;5;132;01m}\u001b[39;00m\u001b[38;5;124m.ipynb\u001b[39m\u001b[38;5;124m\"\u001b[39m)\n\u001b[0;32m      4\u001b[0m     \u001b[38;5;66;03m#output_notebook = os.path.join(OUTPUT_DIR, f\"02_Norm_{variante}_{datetime.now().strftime('%Y%m%d')}.ipynb\")\u001b[39;00m\n\u001b[1;32m----> 5\u001b[0m     \u001b[43mejecutar_notebook\u001b[49m\u001b[43m(\u001b[49m\u001b[43mnotebook_path\u001b[49m\u001b[43m,\u001b[49m\u001b[43m \u001b[49m\u001b[43mparameters\u001b[49m\u001b[38;5;241;43m=\u001b[39;49m\u001b[43m{\u001b[49m\u001b[43m}\u001b[49m\u001b[43m)\u001b[49m\n\u001b[0;32m      7\u001b[0m \u001b[38;5;28mprint\u001b[39m(\u001b[38;5;124m\"\u001b[39m\u001b[38;5;124mEjecución de notebooks de normalización completada.\u001b[39m\u001b[38;5;124m\"\u001b[39m)\n",
      "Cell \u001b[1;32mIn[306], line 5\u001b[0m, in \u001b[0;36mejecutar_notebook\u001b[1;34m(notebook_path, parameters)\u001b[0m\n\u001b[0;32m      3\u001b[0m     parameters \u001b[38;5;241m=\u001b[39m {}\n\u001b[0;32m      4\u001b[0m \u001b[38;5;28;01mwith\u001b[39;00m tempfile\u001b[38;5;241m.\u001b[39mNamedTemporaryFile(suffix\u001b[38;5;241m=\u001b[39m\u001b[38;5;124m'\u001b[39m\u001b[38;5;124m.ipynb\u001b[39m\u001b[38;5;124m'\u001b[39m, \u001b[38;5;28mdir\u001b[39m\u001b[38;5;241m=\u001b[39mBASE_DIR, delete\u001b[38;5;241m=\u001b[39m\u001b[38;5;28;01mTrue\u001b[39;00m) \u001b[38;5;28;01mas\u001b[39;00m tmp_output:\n\u001b[1;32m----> 5\u001b[0m     \u001b[43mpm\u001b[49m\u001b[38;5;241;43m.\u001b[39;49m\u001b[43mexecute_notebook\u001b[49m\u001b[43m(\u001b[49m\n\u001b[0;32m      6\u001b[0m \u001b[43m        \u001b[49m\u001b[43mnotebook_path\u001b[49m\u001b[43m,\u001b[49m\n\u001b[0;32m      7\u001b[0m \u001b[43m        \u001b[49m\u001b[43mtmp_output\u001b[49m\u001b[38;5;241;43m.\u001b[39;49m\u001b[43mname\u001b[49m\u001b[43m,\u001b[49m\u001b[43m  \u001b[49m\u001b[38;5;66;43;03m# Usar un archivo temporal para el output\u001b[39;49;00m\n\u001b[0;32m      8\u001b[0m \u001b[43m        \u001b[49m\u001b[43mparameters\u001b[49m\u001b[38;5;241;43m=\u001b[39;49m\u001b[43mparameters\u001b[49m\n\u001b[0;32m      9\u001b[0m \u001b[43m    \u001b[49m\u001b[43m)\u001b[49m\n",
      "File \u001b[1;32mc:\\Users\\Gonzalo\\Documents\\GitHub\\00_tesisaustral\\tesisaustral\\tesisaustral\\Lib\\site-packages\\papermill\\execute.py:116\u001b[0m, in \u001b[0;36mexecute_notebook\u001b[1;34m(input_path, output_path, parameters, engine_name, request_save_on_cell_execute, prepare_only, kernel_name, language, progress_bar, log_output, stdout_file, stderr_file, start_timeout, report_mode, cwd, **engine_kwargs)\u001b[0m\n\u001b[0;32m    114\u001b[0m \u001b[38;5;66;03m# Execute the Notebook in `cwd` if it is set\u001b[39;00m\n\u001b[0;32m    115\u001b[0m \u001b[38;5;28;01mwith\u001b[39;00m chdir(cwd):\n\u001b[1;32m--> 116\u001b[0m     nb \u001b[38;5;241m=\u001b[39m \u001b[43mpapermill_engines\u001b[49m\u001b[38;5;241;43m.\u001b[39;49m\u001b[43mexecute_notebook_with_engine\u001b[49m\u001b[43m(\u001b[49m\n\u001b[0;32m    117\u001b[0m \u001b[43m        \u001b[49m\u001b[43mengine_name\u001b[49m\u001b[43m,\u001b[49m\n\u001b[0;32m    118\u001b[0m \u001b[43m        \u001b[49m\u001b[43mnb\u001b[49m\u001b[43m,\u001b[49m\n\u001b[0;32m    119\u001b[0m \u001b[43m        \u001b[49m\u001b[43minput_path\u001b[49m\u001b[38;5;241;43m=\u001b[39;49m\u001b[43minput_path\u001b[49m\u001b[43m,\u001b[49m\n\u001b[0;32m    120\u001b[0m \u001b[43m        \u001b[49m\u001b[43moutput_path\u001b[49m\u001b[38;5;241;43m=\u001b[39;49m\u001b[43moutput_path\u001b[49m\u001b[43m \u001b[49m\u001b[38;5;28;43;01mif\u001b[39;49;00m\u001b[43m \u001b[49m\u001b[43mrequest_save_on_cell_execute\u001b[49m\u001b[43m \u001b[49m\u001b[38;5;28;43;01melse\u001b[39;49;00m\u001b[43m \u001b[49m\u001b[38;5;28;43;01mNone\u001b[39;49;00m\u001b[43m,\u001b[49m\n\u001b[0;32m    121\u001b[0m \u001b[43m        \u001b[49m\u001b[43mkernel_name\u001b[49m\u001b[38;5;241;43m=\u001b[39;49m\u001b[43mkernel_name\u001b[49m\u001b[43m,\u001b[49m\n\u001b[0;32m    122\u001b[0m \u001b[43m        \u001b[49m\u001b[43mprogress_bar\u001b[49m\u001b[38;5;241;43m=\u001b[39;49m\u001b[43mprogress_bar\u001b[49m\u001b[43m,\u001b[49m\n\u001b[0;32m    123\u001b[0m \u001b[43m        \u001b[49m\u001b[43mlog_output\u001b[49m\u001b[38;5;241;43m=\u001b[39;49m\u001b[43mlog_output\u001b[49m\u001b[43m,\u001b[49m\n\u001b[0;32m    124\u001b[0m \u001b[43m        \u001b[49m\u001b[43mstart_timeout\u001b[49m\u001b[38;5;241;43m=\u001b[39;49m\u001b[43mstart_timeout\u001b[49m\u001b[43m,\u001b[49m\n\u001b[0;32m    125\u001b[0m \u001b[43m        \u001b[49m\u001b[43mstdout_file\u001b[49m\u001b[38;5;241;43m=\u001b[39;49m\u001b[43mstdout_file\u001b[49m\u001b[43m,\u001b[49m\n\u001b[0;32m    126\u001b[0m \u001b[43m        \u001b[49m\u001b[43mstderr_file\u001b[49m\u001b[38;5;241;43m=\u001b[39;49m\u001b[43mstderr_file\u001b[49m\u001b[43m,\u001b[49m\n\u001b[0;32m    127\u001b[0m \u001b[43m        \u001b[49m\u001b[38;5;241;43m*\u001b[39;49m\u001b[38;5;241;43m*\u001b[39;49m\u001b[43mengine_kwargs\u001b[49m\u001b[43m,\u001b[49m\n\u001b[0;32m    128\u001b[0m \u001b[43m    \u001b[49m\u001b[43m)\u001b[49m\n\u001b[0;32m    130\u001b[0m \u001b[38;5;66;03m# Check for errors first (it saves on error before raising)\u001b[39;00m\n\u001b[0;32m    131\u001b[0m raise_for_execution_errors(nb, output_path)\n",
      "File \u001b[1;32mc:\\Users\\Gonzalo\\Documents\\GitHub\\00_tesisaustral\\tesisaustral\\tesisaustral\\Lib\\site-packages\\papermill\\engines.py:48\u001b[0m, in \u001b[0;36mPapermillEngines.execute_notebook_with_engine\u001b[1;34m(self, engine_name, nb, kernel_name, **kwargs)\u001b[0m\n\u001b[0;32m     46\u001b[0m \u001b[38;5;28;01mdef\u001b[39;00m \u001b[38;5;21mexecute_notebook_with_engine\u001b[39m(\u001b[38;5;28mself\u001b[39m, engine_name, nb, kernel_name, \u001b[38;5;241m*\u001b[39m\u001b[38;5;241m*\u001b[39mkwargs):\n\u001b[0;32m     47\u001b[0m \u001b[38;5;250m    \u001b[39m\u001b[38;5;124;03m\"\"\"Fetch a named engine and execute the nb object against it.\"\"\"\u001b[39;00m\n\u001b[1;32m---> 48\u001b[0m     \u001b[38;5;28;01mreturn\u001b[39;00m \u001b[38;5;28;43mself\u001b[39;49m\u001b[38;5;241;43m.\u001b[39;49m\u001b[43mget_engine\u001b[49m\u001b[43m(\u001b[49m\u001b[43mengine_name\u001b[49m\u001b[43m)\u001b[49m\u001b[38;5;241;43m.\u001b[39;49m\u001b[43mexecute_notebook\u001b[49m\u001b[43m(\u001b[49m\u001b[43mnb\u001b[49m\u001b[43m,\u001b[49m\u001b[43m \u001b[49m\u001b[43mkernel_name\u001b[49m\u001b[43m,\u001b[49m\u001b[43m \u001b[49m\u001b[38;5;241;43m*\u001b[39;49m\u001b[38;5;241;43m*\u001b[39;49m\u001b[43mkwargs\u001b[49m\u001b[43m)\u001b[49m\n",
      "File \u001b[1;32mc:\\Users\\Gonzalo\\Documents\\GitHub\\00_tesisaustral\\tesisaustral\\tesisaustral\\Lib\\site-packages\\papermill\\engines.py:368\u001b[0m, in \u001b[0;36mEngine.execute_notebook\u001b[1;34m(cls, nb, kernel_name, output_path, progress_bar, log_output, autosave_cell_every, **kwargs)\u001b[0m\n\u001b[0;32m    352\u001b[0m \u001b[38;5;250m\u001b[39m\u001b[38;5;124;03m\"\"\"\u001b[39;00m\n\u001b[0;32m    353\u001b[0m \u001b[38;5;124;03mA wrapper to handle notebook execution tasks.\u001b[39;00m\n\u001b[0;32m    354\u001b[0m \n\u001b[1;32m   (...)\u001b[0m\n\u001b[0;32m    358\u001b[0m \u001b[38;5;124;03miterating and executing the cell contents.\u001b[39;00m\n\u001b[0;32m    359\u001b[0m \u001b[38;5;124;03m\"\"\"\u001b[39;00m\n\u001b[0;32m    360\u001b[0m nb_man \u001b[38;5;241m=\u001b[39m NotebookExecutionManager(\n\u001b[0;32m    361\u001b[0m     nb,\n\u001b[0;32m    362\u001b[0m     output_path\u001b[38;5;241m=\u001b[39moutput_path,\n\u001b[1;32m   (...)\u001b[0m\n\u001b[0;32m    365\u001b[0m     autosave_cell_every\u001b[38;5;241m=\u001b[39mautosave_cell_every,\n\u001b[0;32m    366\u001b[0m )\n\u001b[1;32m--> 368\u001b[0m \u001b[43mnb_man\u001b[49m\u001b[38;5;241;43m.\u001b[39;49m\u001b[43mnotebook_start\u001b[49m\u001b[43m(\u001b[49m\u001b[43m)\u001b[49m\n\u001b[0;32m    369\u001b[0m \u001b[38;5;28;01mtry\u001b[39;00m:\n\u001b[0;32m    370\u001b[0m     \u001b[38;5;28mcls\u001b[39m\u001b[38;5;241m.\u001b[39mexecute_managed_notebook(nb_man, kernel_name, log_output\u001b[38;5;241m=\u001b[39mlog_output, \u001b[38;5;241m*\u001b[39m\u001b[38;5;241m*\u001b[39mkwargs)\n",
      "File \u001b[1;32mc:\\Users\\Gonzalo\\Documents\\GitHub\\00_tesisaustral\\tesisaustral\\tesisaustral\\Lib\\site-packages\\papermill\\engines.py:76\u001b[0m, in \u001b[0;36mcatch_nb_assignment.<locals>.wrapper\u001b[1;34m(self, *args, **kwargs)\u001b[0m\n\u001b[0;32m     73\u001b[0m \u001b[38;5;28;01mif\u001b[39;00m nb:\n\u001b[0;32m     74\u001b[0m     \u001b[38;5;66;03m# Reassign if executing notebook object was replaced\u001b[39;00m\n\u001b[0;32m     75\u001b[0m     \u001b[38;5;28mself\u001b[39m\u001b[38;5;241m.\u001b[39mnb \u001b[38;5;241m=\u001b[39m nb\n\u001b[1;32m---> 76\u001b[0m \u001b[38;5;28;01mreturn\u001b[39;00m \u001b[43mfunc\u001b[49m\u001b[43m(\u001b[49m\u001b[38;5;28;43mself\u001b[39;49m\u001b[43m,\u001b[49m\u001b[43m \u001b[49m\u001b[38;5;241;43m*\u001b[39;49m\u001b[43margs\u001b[49m\u001b[43m,\u001b[49m\u001b[43m \u001b[49m\u001b[38;5;241;43m*\u001b[39;49m\u001b[38;5;241;43m*\u001b[39;49m\u001b[43mkwargs\u001b[49m\u001b[43m)\u001b[49m\n",
      "File \u001b[1;32mc:\\Users\\Gonzalo\\Documents\\GitHub\\00_tesisaustral\\tesisaustral\\tesisaustral\\Lib\\site-packages\\papermill\\engines.py:211\u001b[0m, in \u001b[0;36mNotebookExecutionManager.notebook_start\u001b[1;34m(self, **kwargs)\u001b[0m\n\u001b[0;32m    208\u001b[0m     \u001b[38;5;28;01mif\u001b[39;00m cell\u001b[38;5;241m.\u001b[39mget(\u001b[38;5;124m\"\u001b[39m\u001b[38;5;124mcell_type\u001b[39m\u001b[38;5;124m\"\u001b[39m) \u001b[38;5;241m==\u001b[39m \u001b[38;5;124m\"\u001b[39m\u001b[38;5;124mcode\u001b[39m\u001b[38;5;124m\"\u001b[39m:\n\u001b[0;32m    209\u001b[0m         cell\u001b[38;5;241m.\u001b[39moutputs \u001b[38;5;241m=\u001b[39m []\n\u001b[1;32m--> 211\u001b[0m \u001b[38;5;28;43mself\u001b[39;49m\u001b[38;5;241;43m.\u001b[39;49m\u001b[43msave\u001b[49m\u001b[43m(\u001b[49m\u001b[43m)\u001b[49m\n",
      "File \u001b[1;32mc:\\Users\\Gonzalo\\Documents\\GitHub\\00_tesisaustral\\tesisaustral\\tesisaustral\\Lib\\site-packages\\papermill\\engines.py:76\u001b[0m, in \u001b[0;36mcatch_nb_assignment.<locals>.wrapper\u001b[1;34m(self, *args, **kwargs)\u001b[0m\n\u001b[0;32m     73\u001b[0m \u001b[38;5;28;01mif\u001b[39;00m nb:\n\u001b[0;32m     74\u001b[0m     \u001b[38;5;66;03m# Reassign if executing notebook object was replaced\u001b[39;00m\n\u001b[0;32m     75\u001b[0m     \u001b[38;5;28mself\u001b[39m\u001b[38;5;241m.\u001b[39mnb \u001b[38;5;241m=\u001b[39m nb\n\u001b[1;32m---> 76\u001b[0m \u001b[38;5;28;01mreturn\u001b[39;00m \u001b[43mfunc\u001b[49m\u001b[43m(\u001b[49m\u001b[38;5;28;43mself\u001b[39;49m\u001b[43m,\u001b[49m\u001b[43m \u001b[49m\u001b[38;5;241;43m*\u001b[39;49m\u001b[43margs\u001b[49m\u001b[43m,\u001b[49m\u001b[43m \u001b[49m\u001b[38;5;241;43m*\u001b[39;49m\u001b[38;5;241;43m*\u001b[39;49m\u001b[43mkwargs\u001b[49m\u001b[43m)\u001b[49m\n",
      "File \u001b[1;32mc:\\Users\\Gonzalo\\Documents\\GitHub\\00_tesisaustral\\tesisaustral\\tesisaustral\\Lib\\site-packages\\papermill\\engines.py:152\u001b[0m, in \u001b[0;36mNotebookExecutionManager.save\u001b[1;34m(self, **kwargs)\u001b[0m\n\u001b[0;32m    139\u001b[0m \u001b[38;5;250m\u001b[39m\u001b[38;5;124;03m\"\"\"\u001b[39;00m\n\u001b[0;32m    140\u001b[0m \u001b[38;5;124;03mSaves the wrapped notebook state.\u001b[39;00m\n\u001b[0;32m    141\u001b[0m \n\u001b[1;32m   (...)\u001b[0m\n\u001b[0;32m    149\u001b[0m \u001b[38;5;124;03ma 5 hour cell execution to capture output messages in the notebook.\u001b[39;00m\n\u001b[0;32m    150\u001b[0m \u001b[38;5;124;03m\"\"\"\u001b[39;00m\n\u001b[0;32m    151\u001b[0m \u001b[38;5;28;01mif\u001b[39;00m \u001b[38;5;28mself\u001b[39m\u001b[38;5;241m.\u001b[39moutput_path:\n\u001b[1;32m--> 152\u001b[0m     \u001b[43mwrite_ipynb\u001b[49m\u001b[43m(\u001b[49m\u001b[38;5;28;43mself\u001b[39;49m\u001b[38;5;241;43m.\u001b[39;49m\u001b[43mnb\u001b[49m\u001b[43m,\u001b[49m\u001b[43m \u001b[49m\u001b[38;5;28;43mself\u001b[39;49m\u001b[38;5;241;43m.\u001b[39;49m\u001b[43moutput_path\u001b[49m\u001b[43m)\u001b[49m\n\u001b[0;32m    153\u001b[0m \u001b[38;5;28mself\u001b[39m\u001b[38;5;241m.\u001b[39mlast_save_time \u001b[38;5;241m=\u001b[39m \u001b[38;5;28mself\u001b[39m\u001b[38;5;241m.\u001b[39mnow()\n",
      "File \u001b[1;32mc:\\Users\\Gonzalo\\Documents\\GitHub\\00_tesisaustral\\tesisaustral\\tesisaustral\\Lib\\site-packages\\papermill\\iorw.py:486\u001b[0m, in \u001b[0;36mwrite_ipynb\u001b[1;34m(nb, path)\u001b[0m\n\u001b[0;32m    480\u001b[0m \u001b[38;5;28;01mdef\u001b[39;00m \u001b[38;5;21mwrite_ipynb\u001b[39m(nb, path):\n\u001b[0;32m    481\u001b[0m \u001b[38;5;250m    \u001b[39m\u001b[38;5;124;03m\"\"\"Saves a notebook object to the specified path.\u001b[39;00m\n\u001b[0;32m    482\u001b[0m \u001b[38;5;124;03m    Args:\u001b[39;00m\n\u001b[0;32m    483\u001b[0m \u001b[38;5;124;03m        nb_node (nbformat.NotebookNode): Notebook object to save.\u001b[39;00m\n\u001b[0;32m    484\u001b[0m \u001b[38;5;124;03m        notebook_path (str): Path to save the notebook object to.\u001b[39;00m\n\u001b[0;32m    485\u001b[0m \u001b[38;5;124;03m    \"\"\"\u001b[39;00m\n\u001b[1;32m--> 486\u001b[0m     \u001b[43mpapermill_io\u001b[49m\u001b[38;5;241;43m.\u001b[39;49m\u001b[43mwrite\u001b[49m\u001b[43m(\u001b[49m\u001b[43mnbformat\u001b[49m\u001b[38;5;241;43m.\u001b[39;49m\u001b[43mwrites\u001b[49m\u001b[43m(\u001b[49m\u001b[43mnb\u001b[49m\u001b[43m)\u001b[49m\u001b[43m,\u001b[49m\u001b[43m \u001b[49m\u001b[43mpath\u001b[49m\u001b[43m)\u001b[49m\n",
      "File \u001b[1;32mc:\\Users\\Gonzalo\\Documents\\GitHub\\00_tesisaustral\\tesisaustral\\tesisaustral\\Lib\\site-packages\\papermill\\iorw.py:102\u001b[0m, in \u001b[0;36mPapermillIO.write\u001b[1;34m(self, buf, path, extensions)\u001b[0m\n\u001b[0;32m    101\u001b[0m \u001b[38;5;28;01mdef\u001b[39;00m \u001b[38;5;21mwrite\u001b[39m(\u001b[38;5;28mself\u001b[39m, buf, path, extensions\u001b[38;5;241m=\u001b[39m[\u001b[38;5;124m'\u001b[39m\u001b[38;5;124m.ipynb\u001b[39m\u001b[38;5;124m'\u001b[39m, \u001b[38;5;124m'\u001b[39m\u001b[38;5;124m.json\u001b[39m\u001b[38;5;124m'\u001b[39m]):\n\u001b[1;32m--> 102\u001b[0m     \u001b[38;5;28;01mreturn\u001b[39;00m \u001b[38;5;28;43mself\u001b[39;49m\u001b[38;5;241;43m.\u001b[39;49m\u001b[43mget_handler\u001b[49m\u001b[43m(\u001b[49m\u001b[43mpath\u001b[49m\u001b[43m,\u001b[49m\u001b[43m \u001b[49m\u001b[43mextensions\u001b[49m\u001b[43m)\u001b[49m\u001b[38;5;241;43m.\u001b[39;49m\u001b[43mwrite\u001b[49m\u001b[43m(\u001b[49m\u001b[43mbuf\u001b[49m\u001b[43m,\u001b[49m\u001b[43m \u001b[49m\u001b[43mpath\u001b[49m\u001b[43m)\u001b[49m\n",
      "File \u001b[1;32mc:\\Users\\Gonzalo\\Documents\\GitHub\\00_tesisaustral\\tesisaustral\\tesisaustral\\Lib\\site-packages\\papermill\\iorw.py:214\u001b[0m, in \u001b[0;36mLocalHandler.write\u001b[1;34m(self, buf, path)\u001b[0m\n\u001b[0;32m    212\u001b[0m \u001b[38;5;28;01mif\u001b[39;00m dirname \u001b[38;5;129;01mand\u001b[39;00m \u001b[38;5;129;01mnot\u001b[39;00m os\u001b[38;5;241m.\u001b[39mpath\u001b[38;5;241m.\u001b[39mexists(dirname):\n\u001b[0;32m    213\u001b[0m     \u001b[38;5;28;01mraise\u001b[39;00m \u001b[38;5;167;01mFileNotFoundError\u001b[39;00m(\u001b[38;5;124mf\u001b[39m\u001b[38;5;124m\"\u001b[39m\u001b[38;5;124moutput folder \u001b[39m\u001b[38;5;132;01m{\u001b[39;00mdirname\u001b[38;5;132;01m}\u001b[39;00m\u001b[38;5;124m doesn\u001b[39m\u001b[38;5;124m'\u001b[39m\u001b[38;5;124mt exist.\u001b[39m\u001b[38;5;124m\"\u001b[39m)\n\u001b[1;32m--> 214\u001b[0m \u001b[38;5;28;01mwith\u001b[39;00m \u001b[38;5;28;43mopen\u001b[39;49m\u001b[43m(\u001b[49m\u001b[43mpath\u001b[49m\u001b[43m,\u001b[49m\u001b[43m \u001b[49m\u001b[38;5;124;43m'\u001b[39;49m\u001b[38;5;124;43mw\u001b[39;49m\u001b[38;5;124;43m'\u001b[39;49m\u001b[43m,\u001b[49m\u001b[43m \u001b[49m\u001b[43mencoding\u001b[49m\u001b[38;5;241;43m=\u001b[39;49m\u001b[38;5;124;43m\"\u001b[39;49m\u001b[38;5;124;43mutf-8\u001b[39;49m\u001b[38;5;124;43m\"\u001b[39;49m\u001b[43m)\u001b[49m \u001b[38;5;28;01mas\u001b[39;00m f:\n\u001b[0;32m    215\u001b[0m     f\u001b[38;5;241m.\u001b[39mwrite(buf)\n",
      "\u001b[1;31mPermissionError\u001b[0m: [Errno 13] Permission denied: 'c:\\\\Users\\\\Gonzalo\\\\Documents\\\\GitHub\\\\00_tesisaustral\\\\tesisaustral\\\\tesisaustral\\\\tmpz6j9eig_.ipynb'"
     ]
    }
   ],
   "source": [
    "# Ejecutar notebooks específicos para cada variante del experimento\n",
    "for variante in variantes:\n",
    "    notebook_path = os.path.join(BASE_DIR, f\"02_Norm_{variante}.ipynb\")\n",
    "    #output_notebook = os.path.join(OUTPUT_DIR, f\"02_Norm_{variante}_{datetime.now().strftime('%Y%m%d')}.ipynb\")\n",
    "    ejecutar_notebook(notebook_path, parameters={})\n",
    "    \n",
    "print(\"Ejecución de notebooks de normalización completada.\")"
   ]
  },
  {
   "cell_type": "code",
   "execution_count": null,
   "metadata": {},
   "outputs": [
    {
     "data": {
      "application/vnd.jupyter.widget-view+json": {
       "model_id": "8b2bc207f1cb4b01857be1d03cb6387a",
       "version_major": 2,
       "version_minor": 0
      },
      "text/plain": [
       "Executing:   0%|          | 0/9 [00:00<?, ?cell/s]"
      ]
     },
     "metadata": {},
     "output_type": "display_data"
    },
    {
     "data": {
      "application/vnd.jupyter.widget-view+json": {
       "model_id": "9d598bf2c53547f98b5ba85b3b546d9d",
       "version_major": 2,
       "version_minor": 0
      },
      "text/plain": [
       "Executing:   0%|          | 0/9 [00:00<?, ?cell/s]"
      ]
     },
     "metadata": {},
     "output_type": "display_data"
    },
    {
     "data": {
      "application/vnd.jupyter.widget-view+json": {
       "model_id": "1e702c0b04554b56b58053b868a15e2e",
       "version_major": 2,
       "version_minor": 0
      },
      "text/plain": [
       "Executing:   0%|          | 0/9 [00:00<?, ?cell/s]"
      ]
     },
     "metadata": {},
     "output_type": "display_data"
    },
    {
     "data": {
      "application/vnd.jupyter.widget-view+json": {
       "model_id": "84ab4f822a334d8dbbad8393425d2293",
       "version_major": 2,
       "version_minor": 0
      },
      "text/plain": [
       "Executing:   0%|          | 0/9 [00:00<?, ?cell/s]"
      ]
     },
     "metadata": {},
     "output_type": "display_data"
    },
    {
     "data": {
      "application/vnd.jupyter.widget-view+json": {
       "model_id": "793603e508274699bc53d3cbcf749f36",
       "version_major": 2,
       "version_minor": 0
      },
      "text/plain": [
       "Executing:   0%|          | 0/9 [00:00<?, ?cell/s]"
      ]
     },
     "metadata": {},
     "output_type": "display_data"
    },
    {
     "name": "stdout",
     "output_type": "stream",
     "text": [
      "Ejecución de notebooks de normalización completada.\n"
     ]
    }
   ],
   "source": [
    "for variante in variantes:\n",
    "    notebook_path = os.path.join(BASE_DIR, f\"03_Train_Test.ipynb\")  # Usar el nombre original del notebook\n",
    "    parameters = {\n",
    "        'variante': variante,\n",
    "        'test_size': 0.2,\n",
    "        'random_state': 42  \n",
    "    }\n",
    "    ejecutar_notebook(notebook_path, parameters)\n",
    "\n",
    "print(\"Ejecución de notebooks de normalización completada.\")"
   ]
  },
  {
   "cell_type": "code",
   "execution_count": null,
   "metadata": {},
   "outputs": [],
   "source": [
    "#Parámetros TPOT\n",
    "tpot_config = {\n",
    "    \"generations\": 5,\n",
    "    \"population_size\": 20,\n",
    "    \"verbosity\": 2\n",
    "}"
   ]
  },
  {
   "cell_type": "code",
   "execution_count": null,
   "metadata": {},
   "outputs": [],
   "source": [
    "# Guardar la configuración en un archivo JSON para que el script de modelos lo lea\n",
    "config = {\n",
    "    \"data_paths\": {\n",
    "        \"X_train\": f\"X_train_{variante}.parquet\",\n",
    "        \"X_test\": f\"X_test_{variante}.parquet\",\n",
    "        \"y_train\": f\"y_train_{variante}.parquet\",\n",
    "        \"y_test\": f\"y_test_{variante}.parquet\"\n",
    "    },\n",
    "    \"tpot_config\": tpot_config,\n",
    "    \"autosklearn_config\": autosklearn_config\n",
    "}"
   ]
  },
  {
   "cell_type": "code",
   "execution_count": null,
   "metadata": {},
   "outputs": [],
   "source": [
    "config_path = os.path.join(BASE_DIR, 'control_config.json')\n",
    "with open(config_path, 'w') as f:\n",
    "    json.dump(config, f)"
   ]
  },
  {
   "cell_type": "code",
   "execution_count": null,
   "metadata": {},
   "outputs": [],
   "source": [
    "# Ejecutar el script de modelos\n",
    "subprocess.run(['python', os.path.join(BASE_DIR, '04_Auto_Models.py')])"
   ]
  }
 ],
 "metadata": {
  "kernelspec": {
   "display_name": "tesisaustral",
   "language": "python",
   "name": "python3"
  },
  "language_info": {
   "codemirror_mode": {
    "name": "ipython",
    "version": 3
   },
   "file_extension": ".py",
   "mimetype": "text/x-python",
   "name": "python",
   "nbconvert_exporter": "python",
   "pygments_lexer": "ipython3",
   "version": "3.12.2"
  }
 },
 "nbformat": 4,
 "nbformat_minor": 2
}
