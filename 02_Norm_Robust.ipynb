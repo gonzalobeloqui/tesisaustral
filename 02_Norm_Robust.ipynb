{
 "cells": [
  {
   "cell_type": "code",
   "execution_count": 1,
   "metadata": {},
   "outputs": [],
   "source": [
    "import pandas as pd\n",
    "from sklearn.preprocessing import MinMaxScaler, StandardScaler, MaxAbsScaler, RobustScaler"
   ]
  },
  {
   "cell_type": "code",
   "execution_count": 2,
   "metadata": {},
   "outputs": [],
   "source": [
    "df_triage_encoded = pd.read_parquet('../tesisaustral/01_df_triage_encoded')"
   ]
  },
  {
   "cell_type": "code",
   "execution_count": 3,
   "metadata": {},
   "outputs": [],
   "source": [
    "# Lista de columnas a normalizar\n",
    "columnas = [\n",
    "    'n_visita_urgencia', 'n_admisiones', 'n_cirugias', 'med_combinacion_analgesica_y_antihistaminica',\n",
    "    'med_analgesicos', 'med_anestesicos', 'med_anti-obesidad', 'med_antialergia', 'med_antiartriticos',\n",
    "    'med_antiasma', 'med_antibioticos', 'med_anticoagulantes', 'med_antidotos', 'med_antifungicos',\n",
    "    'med_combinacion_de_antihistaminico_y_descongestionante', 'med_antihistaminicos', 'med_antihiperglucemicos',\n",
    "    'med_antiinfecciosos', 'med_antiinfectives/varios', 'med_antineopultimoics', 'med_antiparkinsondrogas',\n",
    "    'med_antiplaquetarios', 'med_antivirales', 'med_autonomas', 'med_cardiacos', 'med_cardiovasculares',\n",
    "    'med_cns', 'med_anticonceptivos', 'med_diureticos', 'med_gastrointestinales', 'med_inmunosupresores',\n",
    "    'med_investigacional', 'med_relajantes_musculares', 'med_pre-natalvitaminas', 'med_psicoterapeuticos',\n",
    "    'med_sedantes/hipnoticos', 'med_vitaminas', 'cxr_cuenta', 'cuenta_echo', 'recuento_electrocardiograma',\n",
    "    'headct_cuenta', 'mri_cuenta', 'otroct_cuenta', 'otroimg_cuenta', 'otrosus_cuenta', 'otroxr_cuenta',\n",
    "    'edad', 'absolutamentemphcitocuenta_ultimo', 'albumina_ultima', 'anc(absneutrophilcuenta)_ultimo',\n",
    "    'aniongap_ultimo', 'aspartatoaminotransferasa(ast)_ultimo', 'b-typenatriureticpeptidepro(probnp)_ultimo',\n",
    "    'bilirrubinadirect_ultimo', 'panecillo_ultimo', 'bollo/creatratio_ultimo', 'calcio_ultimo', 'cloruro_ultimo',\n",
    "    'creatinina_ultimo', 'dimero_d_ultimo', 'egfr_ultimo', 'glucosa_ultima', 'hematocrito_ultimo',\n",
    "    'hemoglobina_ultima', 'inr_ultimo', 'lactatepoc_ultimo', 'plaquetas_ultimo', 'potasio_ultimo',\n",
    "    'sodio_ultimo', 'troponini(poc)_ultimo', 'wbc_ultimo'\n",
    "]"
   ]
  },
  {
   "cell_type": "code",
   "execution_count": 4,
   "metadata": {},
   "outputs": [],
   "source": [
    "robust_scaler = RobustScaler()\n",
    "df_robust = df_triage_encoded.copy()\n",
    "df_robust[columnas] = robust_scaler.fit_transform(df_triage_encoded[columnas])"
   ]
  },
  {
   "cell_type": "code",
   "execution_count": 5,
   "metadata": {},
   "outputs": [],
   "source": [
    "df_robust.to_parquet('02_df_Robust', index=False)"
   ]
  }
 ],
 "metadata": {
  "kernelspec": {
   "display_name": "tesisaustral",
   "language": "python",
   "name": "python3"
  },
  "language_info": {
   "codemirror_mode": {
    "name": "ipython",
    "version": 3
   },
   "file_extension": ".py",
   "mimetype": "text/x-python",
   "name": "python",
   "nbconvert_exporter": "python",
   "pygments_lexer": "ipython3",
   "version": "3.12.2"
  }
 },
 "nbformat": 4,
 "nbformat_minor": 2
}
