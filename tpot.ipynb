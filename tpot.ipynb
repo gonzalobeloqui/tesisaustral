{
 "cells": [
  {
   "cell_type": "code",
   "execution_count": 17,
   "metadata": {},
   "outputs": [],
   "source": [
    "import json\n",
    "import pandas as pd\n",
    "from tpot import TPOTClassifier\n",
    "from sklearn.metrics import accuracy_score, classification_report, roc_auc_score, roc_curve\n",
    "import pickle\n",
    "import matplotlib.pyplot as plt\n",
    "from matplotlib.backends.backend_pdf import PdfPages\n",
    "from datetime import datetime\n",
    "import re"
   ]
  },
  {
   "cell_type": "code",
   "execution_count": 18,
   "metadata": {},
   "outputs": [],
   "source": [
    "# Leer el archivo de control\n",
    "with open('control_config.json', 'r') as f:\n",
    "    config = json.load(f)"
   ]
  },
  {
   "cell_type": "code",
   "execution_count": 19,
   "metadata": {},
   "outputs": [],
   "source": [
    "# Función para limpiar nombres de columnas\n",
    "def clean_column_names(df):\n",
    "    df.columns = [re.sub(r'[^A-Za-z0-9_]', '', col) for col in df.columns]\n",
    "    return df"
   ]
  },
  {
   "cell_type": "code",
   "execution_count": 20,
   "metadata": {},
   "outputs": [],
   "source": [
    "# Función para reducir el uso de memoria\n",
    "def reduce_mem_usage(df):\n",
    "    start_mem = df.memory_usage().sum() / 1024**2\n",
    "    for col in df.columns:\n",
    "        col_type = df[col].dtype\n",
    "        if col_type != object:\n",
    "            c_min = df[col].min()\n",
    "            c_max = df[col].max()\n",
    "            if str(col_type)[:3] == 'int':\n",
    "                if c_min > -128 and c_max < 127:\n",
    "                    df[col] = df[col].astype('int8')\n",
    "                elif c_min > -32768 and c_max < 32767:\n",
    "                    df[col] = df[col].astype('int16')\n",
    "                elif c_min > -2147483648 and c_max < 2147483647:\n",
    "                    df[col] = df[col].astype('int32')\n",
    "                else:\n",
    "                    df[col] = df[col].astype('int64')\n",
    "            else:\n",
    "                if c_min > -3.4e38 and c_max < 3.4e38:\n",
    "                    df[col] = df[col].astype('float32')\n",
    "                else:\n",
    "                    df[col] = df[col].astype('float64')\n",
    "    end_mem = df.memory_usage().sum() / 1024**2\n",
    "    print(f'Memory usage after optimization is: {end_mem:.2f} MB')\n",
    "    print(f'Decreased by {(100 * (start_mem - end_mem) / start_mem):.1f}%')\n",
    "    return df"
   ]
  },
  {
   "cell_type": "code",
   "execution_count": 21,
   "metadata": {},
   "outputs": [],
   "source": [
    "# Variantes de normalización\n",
    "variantes = [\"No_Norm\", \"MinMax\", \"Std\", \"Maxabs\", \"Robust\"]"
   ]
  },
  {
   "cell_type": "code",
   "execution_count": 22,
   "metadata": {},
   "outputs": [],
   "source": [
    "# Obtener la fecha actual para los nombres de archivo\n",
    "fecha_actual = datetime.now().strftime(\"%Y%m%d\")"
   ]
  },
  {
   "cell_type": "code",
   "execution_count": 23,
   "metadata": {},
   "outputs": [
    {
     "name": "stdout",
     "output_type": "stream",
     "text": [
      "Memory usage after optimization is: 357.91 MB\n",
      "Decreased by 81.5%\n",
      "Memory usage after optimization is: 89.48 MB\n",
      "Decreased by 81.5%\n",
      "Imputing missing values in feature set\n"
     ]
    },
    {
     "data": {
      "application/vnd.jupyter.widget-view+json": {
       "model_id": "ad46406ce0724181982f596a18f85052",
       "version_major": 2,
       "version_minor": 0
      },
      "text/plain": [
       "Optimization Progress:   0%|          | 0/120 [00:00<?, ?pipeline/s]"
      ]
     },
     "metadata": {},
     "output_type": "display_data"
    },
    {
     "name": "stderr",
     "output_type": "stream",
     "text": [
      "  File \"c:\\Users\\Gonzalo\\Documents\\GitHub\\00_tesisaustral\\tesisaustral\\tesisaustral\\Lib\\site-packages\\joblib\\externals\\loky\\backend\\context.py\", line 282, in _count_physical_cores\n",
      "    raise ValueError(f\"found {cpu_count_physical} physical cores < 1\")\n"
     ]
    },
    {
     "name": "stdout",
     "output_type": "stream",
     "text": [
      "\n",
      "Generation 1 - Current best internal CV score: 0.41639161163325317\n",
      "\n",
      "Generation 2 - Current best internal CV score: 0.41639161163325317\n",
      "\n",
      "Generation 3 - Current best internal CV score: 0.41639161163325317\n",
      "\n",
      "Generation 4 - Current best internal CV score: 0.49604584072970975\n",
      "\n",
      "Generation 5 - Current best internal CV score: 0.49604584072970975\n",
      "\n",
      "Best pipeline: LogisticRegression(StandardScaler(input_matrix), C=15.0, dual=False, penalty=l2)\n",
      "Imputing missing values in feature set\n",
      "TPOT Accuracy for No_Norm: 0.499045478063837\n",
      "Imputing missing values in feature set\n",
      "ROC AUC Score for each class (No_Norm): [0.81481766 0.82657166 0.72844401 0.73584721 0.93602141]\n",
      "Memory usage after optimization is: 417.78 MB\n",
      "Decreased by 78.4%\n",
      "Memory usage after optimization is: 104.45 MB\n",
      "Decreased by 78.4%\n",
      "Imputing missing values in feature set\n"
     ]
    },
    {
     "data": {
      "application/vnd.jupyter.widget-view+json": {
       "model_id": "71c07ae306b8495b9d42caed788091c6",
       "version_major": 2,
       "version_minor": 0
      },
      "text/plain": [
       "Optimization Progress:   0%|          | 0/120 [00:00<?, ?pipeline/s]"
      ]
     },
     "metadata": {},
     "output_type": "display_data"
    },
    {
     "name": "stdout",
     "output_type": "stream",
     "text": [
      "\n",
      "Generation 1 - Current best internal CV score: 0.42652792249851\n",
      "\n",
      "Generation 2 - Current best internal CV score: 0.426666190682132\n",
      "\n",
      "Generation 3 - Current best internal CV score: 0.426666190682132\n",
      "\n",
      "Generation 4 - Current best internal CV score: 0.42666842088351925\n",
      "\n",
      "Generation 5 - Current best internal CV score: 0.4269315863880559\n",
      "\n",
      "Best pipeline: DecisionTreeClassifier(input_matrix, criterion=entropy, max_depth=10, min_samples_leaf=10, min_samples_split=17)\n",
      "Imputing missing values in feature set\n",
      "TPOT Accuracy for MinMax: 0.4311941337044372\n",
      "Imputing missing values in feature set\n",
      "ROC AUC Score for each class (MinMax): [0.74392204 0.75796809 0.64603862 0.65424188 0.85119567]\n",
      "Memory usage after optimization is: 417.78 MB\n",
      "Decreased by 78.4%\n",
      "Memory usage after optimization is: 104.45 MB\n",
      "Decreased by 78.4%\n",
      "Imputing missing values in feature set\n"
     ]
    },
    {
     "data": {
      "application/vnd.jupyter.widget-view+json": {
       "model_id": "8599c216cd7b40a7bcfb65ab51e31238",
       "version_major": 2,
       "version_minor": 0
      },
      "text/plain": [
       "Optimization Progress:   0%|          | 0/120 [00:00<?, ?pipeline/s]"
      ]
     },
     "metadata": {},
     "output_type": "display_data"
    },
    {
     "name": "stdout",
     "output_type": "stream",
     "text": [
      "\n",
      "Generation 1 - Current best internal CV score: 0.4225269202699756\n",
      "\n",
      "Generation 2 - Current best internal CV score: 0.4225269202699756\n",
      "\n",
      "Generation 3 - Current best internal CV score: 0.4270207945927589\n",
      "\n",
      "Generation 4 - Current best internal CV score: 0.42702079479171307\n",
      "\n",
      "Generation 5 - Current best internal CV score: 0.4270475572829671\n",
      "\n",
      "Best pipeline: DecisionTreeClassifier(RobustScaler(input_matrix), criterion=entropy, max_depth=10, min_samples_leaf=7, min_samples_split=17)\n",
      "Imputing missing values in feature set\n",
      "TPOT Accuracy for Std: 0.43113168834412746\n",
      "Imputing missing values in feature set\n",
      "ROC AUC Score for each class (Std): [0.74388409 0.75761667 0.64613983 0.65426399 0.85099667]\n",
      "Memory usage after optimization is: 417.78 MB\n",
      "Decreased by 78.4%\n",
      "Memory usage after optimization is: 104.45 MB\n",
      "Decreased by 78.4%\n",
      "Imputing missing values in feature set\n"
     ]
    },
    {
     "data": {
      "application/vnd.jupyter.widget-view+json": {
       "model_id": "a0a77bc1a1f844c6a58672dd4c7a7418",
       "version_major": 2,
       "version_minor": 0
      },
      "text/plain": [
       "Optimization Progress:   0%|          | 0/120 [00:00<?, ?pipeline/s]"
      ]
     },
     "metadata": {},
     "output_type": "display_data"
    },
    {
     "name": "stdout",
     "output_type": "stream",
     "text": [
      "\n",
      "Generation 1 - Current best internal CV score: 0.40281631535713414\n",
      "\n",
      "Generation 2 - Current best internal CV score: 0.4960681427435816\n",
      "\n",
      "Generation 3 - Current best internal CV score: 0.4960681427435816\n",
      "\n",
      "Generation 4 - Current best internal CV score: 0.4960681427435816\n",
      "\n",
      "Generation 5 - Current best internal CV score: 0.4960681427435816\n",
      "\n",
      "Best pipeline: LogisticRegression(StandardScaler(input_matrix), C=10.0, dual=False, penalty=l2)\n",
      "Imputing missing values in feature set\n",
      "TPOT Accuracy for Maxabs: 0.49903655729807844\n",
      "Imputing missing values in feature set\n",
      "ROC AUC Score for each class (Maxabs): [0.81481792 0.82657161 0.72844401 0.73584731 0.93602145]\n",
      "Memory usage after optimization is: 417.78 MB\n",
      "Decreased by 78.4%\n",
      "Memory usage after optimization is: 104.45 MB\n",
      "Decreased by 78.4%\n",
      "Imputing missing values in feature set\n"
     ]
    },
    {
     "data": {
      "application/vnd.jupyter.widget-view+json": {
       "model_id": "03c1561f5eff4a649bd98eefebb56410",
       "version_major": 2,
       "version_minor": 0
      },
      "text/plain": [
       "Optimization Progress:   0%|          | 0/120 [00:00<?, ?pipeline/s]"
      ]
     },
     "metadata": {},
     "output_type": "display_data"
    },
    {
     "name": "stdout",
     "output_type": "stream",
     "text": [
      "\n",
      "Generation 1 - Current best internal CV score: 0.496094905359182\n",
      "\n",
      "Generation 2 - Current best internal CV score: 0.496094905359182\n",
      "\n",
      "Generation 3 - Current best internal CV score: 0.496094905359182\n",
      "\n",
      "Generation 4 - Current best internal CV score: 0.496094905359182\n",
      "\n",
      "Generation 5 - Current best internal CV score: 0.496094905359182\n",
      "\n",
      "Best pipeline: LogisticRegression(StandardScaler(input_matrix), C=1.0, dual=False, penalty=l2)\n",
      "Imputing missing values in feature set\n",
      "TPOT Accuracy for Robust: 0.49903655729807844\n",
      "Imputing missing values in feature set\n",
      "ROC AUC Score for each class (Robust): [0.81482215 0.8265695  0.72844534 0.73585092 0.93602271]\n"
     ]
    }
   ],
   "source": [
    "resultados = {}\n",
    "for variante in variantes:\n",
    "    try:\n",
    "        # Cargar los conjuntos de datos específicos de la variante\n",
    "        X_train = pd.read_parquet(config['data_paths'][f'X_train_{variante}'])\n",
    "        X_test = pd.read_parquet(config['data_paths'][f'X_test_{variante}'])\n",
    "        y_train = pd.read_parquet(config['data_paths'][f'y_train_{variante}']).values.ravel()\n",
    "        y_test = pd.read_parquet(config['data_paths'][f'y_test_{variante}']).values.ravel()\n",
    "        \n",
    "        if X_train is None or X_test is None:\n",
    "            print(f\"Skipping variant {variante} due to memory issues.\")\n",
    "            continue\n",
    "        \n",
    "        # Reducir uso de memoria\n",
    "        X_train = reduce_mem_usage(X_train)\n",
    "        X_test = reduce_mem_usage(X_test)\n",
    "        \n",
    "        # Limpiar nombres de las columnas\n",
    "        X_train = clean_column_names(X_train)\n",
    "        X_test = clean_column_names(X_test)\n",
    "        \n",
    "        # Configuración de TPOT\n",
    "        tpot = TPOTClassifier(\n",
    "            generations=config['tpot_config']['generations'],\n",
    "            population_size=config['tpot_config']['population_size'],\n",
    "            verbosity=config['tpot_config']['verbosity']\n",
    "        )\n",
    "        tpot.fit(X_train, y_train)\n",
    "        tpot_predictions = tpot.predict(X_test)\n",
    "        tpot_accuracy = accuracy_score(y_test, tpot_predictions)\n",
    "        print(f'TPOT Accuracy for {variante}: {tpot_accuracy}')\n",
    "        \n",
    "        # Guardar el mejor modelo TPOT con la fecha\n",
    "        model_filename = f'best_tpot_model_{variante}_{fecha_actual}.py'\n",
    "        tpot.export(model_filename)\n",
    "        \n",
    "        # Guardar la configuración del mejor modelo\n",
    "        best_pipeline = str(tpot.fitted_pipeline_)\n",
    "        best_model_info = {\n",
    "            \"best_pipeline\": best_pipeline,\n",
    "            \"accuracy\": tpot_accuracy,\n",
    "            \"date\": fecha_actual\n",
    "        }\n",
    "        config_filename = f'best_tpot_model_config_{variante}_{fecha_actual}.json'\n",
    "        with open(config_filename, 'w') as f:\n",
    "            json.dump(best_model_info, f)\n",
    "        \n",
    "        # Almacenar resultados\n",
    "        resultados[variante] = {\n",
    "            \"accuracy\": tpot_accuracy,\n",
    "            \"model_filename\": model_filename,\n",
    "            \"config_filename\": config_filename\n",
    "        }\n",
    "        \n",
    "        # Calcular y graficar curvas ROC\n",
    "        y_test_binarized = pd.get_dummies(y_test)\n",
    "        y_score = tpot.predict_proba(X_test)\n",
    "        roc_auc = roc_auc_score(y_test_binarized, y_score, average=None)\n",
    "        print(f'ROC AUC Score for each class ({variante}): {roc_auc}')\n",
    "        \n",
    "        # Crear PDF con las métricas y las curvas ROC\n",
    "        with PdfPages(f'tpot_model_analysis_report_{variante}_{fecha_actual}.pdf') as pdf:\n",
    "            plt.figure(figsize=(8, 6))\n",
    "            plt.text(0.01, 0.05, str(classification_report(y_test, tpot_predictions)), {'fontsize': 10}, fontproperties='monospace')\n",
    "            plt.axis('off')\n",
    "            plt.title(f'Classification Report ({variante})')\n",
    "            pdf.savefig()\n",
    "            plt.close()\n",
    "\n",
    "            plt.figure(figsize=(8, 6))\n",
    "            for i in range(y_test_binarized.shape[1]):\n",
    "                fpr, tpr, _ = roc_curve(y_test_binarized.iloc[:, i], y_score[:, i])\n",
    "                plt.plot(fpr, tpr, lw=2, label=f'Class {i} (area = {roc_auc[i]:0.2f})')\n",
    "            plt.plot([0, 1], [0, 1], 'k--', lw=2)\n",
    "            plt.xlabel('False Positive Rate')\n",
    "            plt.ylabel('True Positive Rate')\n",
    "            plt.title(f'Receiver Operating Characteristic ({variante})')\n",
    "            plt.legend(loc=\"lower right\")\n",
    "            pdf.savefig()\n",
    "            plt.close()\n",
    "    except Exception as e:\n",
    "        print(f\"An error occurred for variant {variante}: {e}\")\n",
    "        continue"
   ]
  }
 ],
 "metadata": {
  "kernelspec": {
   "display_name": "tesisaustral",
   "language": "python",
   "name": "python3"
  },
  "language_info": {
   "codemirror_mode": {
    "name": "ipython",
    "version": 3
   },
   "file_extension": ".py",
   "mimetype": "text/x-python",
   "name": "python",
   "nbconvert_exporter": "python",
   "pygments_lexer": "ipython3",
   "version": "3.12.2"
  }
 },
 "nbformat": 4,
 "nbformat_minor": 2
}
